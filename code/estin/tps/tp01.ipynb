{
 "cells": [
  {
   "cell_type": "code",
   "execution_count": 361,
   "metadata": {},
   "outputs": [],
   "source": [
    "from aima3.logic import *\n",
    "from aima3.utils import *"
   ]
  },
  {
   "cell_type": "markdown",
   "metadata": {},
   "source": [
    "### exo 01"
   ]
  },
  {
   "cell_type": "code",
   "execution_count": 362,
   "metadata": {},
   "outputs": [],
   "source": [
    "kb = FolKB()\n",
    "\n",
    "kb.tell(expr('Homme(Jean)'))\n",
    "kb.tell(expr('Homme(Fabian)')) \n",
    "kb.tell(expr('Homme(Franck)'))\n",
    "kb.tell(expr('Homme(Jerome)'))\n",
    "kb.tell(expr('Homme(Bruno)'))\n",
    "kb.tell(expr('Femme(Evelyne)'))\n",
    "kb.tell(expr('Femme(Louise)'))\n",
    "kb.tell(expr('Femme(Marie)'))\n",
    "kb.tell(expr('Femme(Eve)'))\n",
    "kb.tell(expr('Femme(Sophie)'))\n",
    "\n",
    "kb.tell(expr('Parent(Jean, Fabian)'))\n",
    "kb.tell(expr('Parent(Fabian , Louise)'))\n",
    "kb.tell(expr('Parent(Louise, Jerome)'))\n",
    "kb.tell(expr('Parent(Louise, Sophie)'))\n",
    "kb.tell(expr('Parent(Louise, Marie)'))\n",
    "kb.tell(expr('Parent(Jerome, Franck)'))\n",
    "kb.tell(expr('Parent(Sophie, Bruno)'))\n",
    "kb.tell(expr('Parent(Sophie, Marie)'))\n",
    "kb.tell(expr('Parent(Sophie, Eve)'))"
   ]
  },
  {
   "cell_type": "code",
   "execution_count": 363,
   "metadata": {},
   "outputs": [],
   "source": [
    "kb.tell(expr(' Parent(x,y) & Femme(x) ==> Mere(x,y)'))\n",
    "kb.tell(expr(' Parent(x,y) & Homme(x) ==> Pere(x,y)'))\n",
    "kb.tell(expr(' Parent(z,x) & Parent(z,y) ==> FrereSoeur(x,y)'))\n",
    "kb.tell(expr(' FrereSoeur(x,y) & Homme(x) ==> Frere(x,y)'))\n",
    "kb.tell(expr('FrereSoeur(x,y) & Femme(x) ==> Soeur(x,y)'))\n",
    "kb.tell(expr(' Parent(z,y) & Frere(z,x) ==> Oncle(z,x)'))\n",
    "kb.tell(expr('Parent(z,y) & Soeur(z,x) ==> Tante(x,y)'))\n",
    "kb.tell(expr(' Parent(z,y) & Oncle(z,x) ==> Cousin(x,y)'))\n",
    "kb.tell(expr('Parent(x,y) ==> Ancetre(x,y)'))\n",
    "kb.tell(expr('Parent(x,z) & Ancetre(z,y) ==> Ancetre(x,y)'))\n"
   ]
  },
  {
   "cell_type": "code",
   "execution_count": 364,
   "metadata": {},
   "outputs": [
    {
     "name": "stdout",
     "output_type": "stream",
     "text": [
      "True\n"
     ]
    }
   ],
   "source": [
    "print(bool(kb.ask(expr('Ancetre(Jean, Franck)'))))"
   ]
  },
  {
   "cell_type": "markdown",
   "metadata": {},
   "source": [
    "### exo 2 with backtracking (not what the exo wants)"
   ]
  },
  {
   "cell_type": "code",
   "execution_count": 365,
   "metadata": {},
   "outputs": [],
   "source": [
    "from aima3.csp import CSP, backtracking_search\n",
    "\n",
    "regions = [1,2,3,4,5,6]\n",
    "\n",
    "colors = ['Bleue','Vert','Blanc','Noir']\n",
    "\n",
    "values_can_be_taken = { v : colors for v in range(1,7)}\n",
    "\n",
    "adjacent_regions = {\n",
    "    1:[3,2,5,6],\n",
    "    2:[1,3,4,5,6],\n",
    "    3:[1,2,4,6],\n",
    "    4:[2,3],\n",
    "    5:[1,2,6],\n",
    "    6:[2,3,5,1]\n",
    "}\n",
    "\n",
    "\n",
    "def condition(A,a,B,b):\n",
    "    return a != b"
   ]
  },
  {
   "cell_type": "code",
   "execution_count": 366,
   "metadata": {},
   "outputs": [
    {
     "data": {
      "text/plain": [
       "{1: 'Bleue', 2: 'Vert', 3: 'Blanc', 4: 'Bleue', 5: 'Blanc', 6: 'Noir'}"
      ]
     },
     "execution_count": 366,
     "metadata": {},
     "output_type": "execute_result"
    }
   ],
   "source": [
    "csp = CSP(regions,values_can_be_taken,adjacent_regions,condition)\n",
    "\n",
    "result = backtracking_search(csp)\n",
    "\n",
    "result"
   ]
  },
  {
   "cell_type": "markdown",
   "metadata": {},
   "source": [
    "### exo 2 but with logic based solution"
   ]
  },
  {
   "cell_type": "code",
   "execution_count": 367,
   "metadata": {},
   "outputs": [],
   "source": [
    "kb = FolKB()\n",
    "\n",
    "colors = ['Bleue', 'Vert', 'Blanc', 'Noir']\n",
    "\n",
    "adjacent_regions = {\n",
    "    1: [3, 2, 5, 6],\n",
    "    2: [1, 3, 4, 5, 6],\n",
    "    3: [1, 2, 4, 6],\n",
    "    4: [2, 3],\n",
    "    5: [1, 2, 6],\n",
    "    6: [2, 3, 5, 1]\n",
    "}\n",
    "\n"
   ]
  },
  {
   "cell_type": "code",
   "execution_count": 368,
   "metadata": {},
   "outputs": [],
   "source": [
    "for region, adjacents in adjacent_regions.items():\n",
    "    for adj in adjacents:\n",
    "        kb.tell(expr(f'Adjacent({region}, {adj})'))\n",
    "\n",
    "kb.tell(expr('Color(x, c) & Color(y, c) & Adjacent(x, y) ==> Conflict()'))\n",
    "\n",
    "\n",
    "\n",
    "def can_be_effected(region, color):\n",
    "\n",
    "    kb.tell(expr(f'Color({region}, {color})'))\n",
    "    conflict = kb.ask(expr('Conflict()'))\n",
    "    kb.retract(expr(f'Color({region}, {color})'))\n",
    "\n",
    "    return not conflict \n",
    "\n",
    "\n",
    "def solution() :\n",
    "\n",
    "    coloration = {}\n",
    "\n",
    "    for region , adjacents in adjacent_regions.items() :\n",
    "        for color in colors :\n",
    "            if can_be_effected(region,color) :\n",
    "                kb.tell(expr(f'Color({region}, {color})'))\n",
    "                coloration[region] = color\n",
    "                break\n",
    "\n",
    "    return coloration\n"
   ]
  },
  {
   "cell_type": "code",
   "execution_count": 369,
   "metadata": {},
   "outputs": [
    {
     "name": "stdout",
     "output_type": "stream",
     "text": [
      "Coloring: {1: 'Bleue', 2: 'Vert', 3: 'Blanc', 4: 'Bleue', 5: 'Blanc', 6: 'Noir'}\n"
     ]
    }
   ],
   "source": [
    "coloring = solution()\n",
    "\n",
    "print(\"Coloring:\", coloring)\n",
    "\n"
   ]
  },
  {
   "cell_type": "code",
   "execution_count": 370,
   "metadata": {},
   "outputs": [
    {
     "data": {
      "text/plain": [
       "True"
      ]
     },
     "execution_count": 370,
     "metadata": {},
     "output_type": "execute_result"
    }
   ],
   "source": [
    "result == coloring  #if both methodes gave the same result"
   ]
  },
  {
   "cell_type": "code",
   "execution_count": 371,
   "metadata": {},
   "outputs": [],
   "source": [
    "\n",
    "#used for debugging after having a problem , to ignore\n",
    "\n",
    "# def show_results():\n",
    "#     coloring = {}\n",
    "#     for region in adjacent_regions:\n",
    "#         for color in colors:\n",
    "#             if kb.ask(expr(f'Color({region}, {color})')):\n",
    "#                 coloring[region] = color\n",
    "#                 break\n",
    "#     return coloring\n",
    "\n",
    "# coloring = show_results()\n",
    "# print(\"Coloring:\", coloring)\n",
    "# print(\"Is region 1 colored Bleue?\", kb.ask(expr('Color(1, Bleue)')))\n",
    "# print(\"Is Bleue used between region 1 and 2?\", bool(kb.ask(expr('Used(1, 2, Bleue)'))))\n",
    "# print(\"Re-testing Used:\", bool(kb.ask(expr('Adjacent(4, 2)'))) and bool(kb.ask(expr('Color(2, Bleue)'))))\n",
    "# print(\"Are regions 4 and 2 adjacent?\", kb.ask(expr('Adjacent(4, 2)')))\n",
    "# print(\"Is Vert used in region 1's adjacents?\", not_used(1, 'Vert', adjacent_regions[1]))\n",
    "\n",
    "# def is_valid_coloring():\n",
    "#     for region, adjacents in adjacent_regions.items():\n",
    "#         region_color = None\n",
    "#         for color in colors:\n",
    "#             if kb.ask(expr(f'Color({region}, {color})')):\n",
    "#                 region_color = color\n",
    "#                 break\n",
    "        \n",
    "#         if region_color is None:\n",
    "#             return False\n",
    "        \n",
    "#         for adj in adjacents:\n",
    "#             for color in colors:\n",
    "#                 if kb.ask(expr(f'Color({adj}, {color})')) and color == region_color:\n",
    "#                     return False\n",
    "    \n",
    "#     return True\n",
    "\n",
    "# print(\"Is the coloring valid?\", is_valid_coloring())"
   ]
  },
  {
   "cell_type": "markdown",
   "metadata": {},
   "source": [
    "### exo 03"
   ]
  },
  {
   "cell_type": "code",
   "execution_count": null,
   "metadata": {},
   "outputs": [],
   "source": []
  }
 ],
 "metadata": {
  "kernelspec": {
   "display_name": "Python 3",
   "language": "python",
   "name": "python3"
  },
  "language_info": {
   "codemirror_mode": {
    "name": "ipython",
    "version": 3
   },
   "file_extension": ".py",
   "mimetype": "text/x-python",
   "name": "python",
   "nbconvert_exporter": "python",
   "pygments_lexer": "ipython3",
   "version": "3.11.4"
  }
 },
 "nbformat": 4,
 "nbformat_minor": 2
}
